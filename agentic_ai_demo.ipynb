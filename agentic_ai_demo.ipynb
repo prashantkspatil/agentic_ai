{
  "cells": [
    {
      "cell_type": "code",
      "execution_count": 40,
      "id": "1485d314",
      "metadata": {
        "colab": {
          "base_uri": "https://localhost:8080/"
        },
        "id": "1485d314",
        "outputId": "bb22ebb9-fbfe-4cd8-b27d-4e10e03e361b"
      },
      "outputs": [
        {
          "output_type": "stream",
          "name": "stdout",
          "text": [
            "\u001b[31mERROR: Cannot install google-generativeai==0.1.0, google-generativeai==0.2.0, google-generativeai==0.2.1, google-generativeai==0.2.2, google-generativeai==0.3.0, google-generativeai==0.3.1, google-generativeai==0.3.2, google-generativeai==0.4.0, google-generativeai==0.4.1, google-generativeai==0.5.0, google-generativeai==0.5.1, google-generativeai==0.5.2, google-generativeai==0.5.3, google-generativeai==0.5.4, google-generativeai==0.6.0, google-generativeai==0.7.0, google-generativeai==0.7.1, google-generativeai==0.7.2, google-generativeai==0.8.0, google-generativeai==0.8.1, google-generativeai==0.8.2, google-generativeai==0.8.3, google-generativeai==0.8.4, google-generativeai==0.8.5 and langchain-google-genai==3.0.0 because these package versions have conflicting dependencies.\u001b[0m\u001b[31m\n",
            "\u001b[0m\u001b[31mERROR: ResolutionImpossible: for help visit https://pip.pypa.io/en/latest/topics/dependency-resolution/#dealing-with-dependency-conflicts\u001b[0m\u001b[31m\n",
            "\u001b[0m"
          ]
        }
      ],
      "source": [
        "!pip install -q -U google-generativeai langchain-google-genai==3.0.0 langchain langchain-community duckduckgo-search ddgs"
      ]
    },
    {
      "cell_type": "markdown",
      "source": [
        "## Import required packages"
      ],
      "metadata": {
        "id": "QbqIvSsQZl_2"
      },
      "id": "QbqIvSsQZl_2"
    },
    {
      "cell_type": "code",
      "source": [
        "import os\n",
        "import google.generativeai as genai\n",
        "from langchain_google_genai import ChatGoogleGenerativeAI\n",
        "from langchain.agents import AgentExecutor, create_react_agent\n",
        "from langchain.tools import tool\n",
        "from langchain import hub\n",
        "from langchain_community.tools import DuckDuckGoSearchRun\n",
        "from langchain_core.prompts import PromptTemplate"
      ],
      "metadata": {
        "id": "rTiskLlOT-OW"
      },
      "id": "rTiskLlOT-OW",
      "execution_count": 41,
      "outputs": []
    },
    {
      "cell_type": "markdown",
      "source": [
        "## Configure model with api key"
      ],
      "metadata": {
        "id": "lbmMRPlwZqFt"
      },
      "id": "lbmMRPlwZqFt"
    },
    {
      "cell_type": "code",
      "source": [
        "from google.colab import userdata\n",
        "\n",
        "GOOGLE_API_KEY = userdata.get('GOOGLE_API_KEY')\n",
        "genai.configure(api_key=GOOGLE_API_KEY)"
      ],
      "metadata": {
        "id": "_XcqeVfDVUME"
      },
      "id": "_XcqeVfDVUME",
      "execution_count": 42,
      "outputs": []
    },
    {
      "cell_type": "markdown",
      "source": [
        "## Check if model is working fine"
      ],
      "metadata": {
        "id": "h1Y4Z-a7Z0k4"
      },
      "id": "h1Y4Z-a7Z0k4"
    },
    {
      "cell_type": "code",
      "source": [
        "model = genai.GenerativeModel(\"gemini-2.5-flash\")\n",
        "response = model.generate_content(\"Hello, how are you today?\")\n",
        "print(f\"Direct gemini response = {response.text}\")"
      ],
      "metadata": {
        "colab": {
          "base_uri": "https://localhost:8080/",
          "height": 34
        },
        "id": "Hd1D0COfWFVs",
        "outputId": "98350fa3-951c-465e-8f02-53ae62a1158c"
      },
      "id": "Hd1D0COfWFVs",
      "execution_count": 43,
      "outputs": [
        {
          "output_type": "stream",
          "name": "stdout",
          "text": [
            "Direct gemini response = Hello! I'm doing great, thank you for asking. How are you today?\n"
          ]
        }
      ]
    },
    {
      "cell_type": "code",
      "source": [
        "# Interaction via langchain\n",
        "os.environ[\"GOOGLE_API_KEY\"] = GOOGLE_API_KEY\n",
        "llm = ChatGoogleGenerativeAI(model=\"gemini-2.5-flash\", temperature=0.5)\n",
        "langchain_response = llm.invoke(\"Hello, how are you today?\")\n",
        "print(f\"langchain response = {langchain_response.content}\")"
      ],
      "metadata": {
        "colab": {
          "base_uri": "https://localhost:8080/"
        },
        "id": "vIENlj3IXQdI",
        "outputId": "3e9476b8-1cf8-4a13-aeb4-3eda95f93ae4"
      },
      "id": "vIENlj3IXQdI",
      "execution_count": 44,
      "outputs": [
        {
          "output_type": "stream",
          "name": "stdout",
          "text": [
            "langchain response = Hello! I'm doing well, thank you for asking.\n",
            "\n",
            "How are you today?\n"
          ]
        }
      ]
    },
    {
      "cell_type": "markdown",
      "source": [
        "## Create tools"
      ],
      "metadata": {
        "id": "3a4IujVQZdT_"
      },
      "id": "3a4IujVQZdT_"
    },
    {
      "cell_type": "code",
      "source": [
        "# Tool 1: DuckDuckGo search\n",
        "search = DuckDuckGoSearchRun()\n",
        "\n",
        "@tool\n",
        "def search_tool(query: str) -> str:\n",
        "    \"\"\"Search the query using DuckDuckGo and return the results.\"\"\"\n",
        "    return search.run(query)"
      ],
      "metadata": {
        "id": "wjHHdUoQZikF"
      },
      "id": "wjHHdUoQZikF",
      "execution_count": 45,
      "outputs": []
    },
    {
      "cell_type": "code",
      "source": [
        "# Tool 2: Arithmetic operatins\n",
        "import json\n",
        "@tool\n",
        "def add_numbers(input_dict: str) -> float:\n",
        "    \"\"\"Adds two numbers num1 (float) and num2 (float) provided in a json like {\"num1\": float, \"num2\": float}.\"\"\"\n",
        "    js = json.loads(input_dict)\n",
        "    num1 = js['num1']\n",
        "    num2 = js['num2']\n",
        "    return num1 + num2\n",
        "\n",
        "@tool\n",
        "def substract_operation(input_dict: str) -> float:\n",
        "    \"\"\"Substract two numbers a (float) and b (float) provided in a json like {\"a\": float, \"b\": float}.\"\"\"\n",
        "    js = json.loads(input_dict)\n",
        "    a = js['a']\n",
        "    b = js['b']\n",
        "    return a - b\n",
        "\n",
        "@tool\n",
        "def multiply_operation(input_dict: str) -> float:\n",
        "    \"\"\"Multiply two numbers a (float) and b (float) provided in a json like {\"a\": float, \"b\": float}.\"\"\"\n",
        "    js = json.loads(input_dict)\n",
        "    a = js['a']\n",
        "    b = js['b']\n",
        "    return a * b\n",
        "\n",
        "@tool\n",
        "def divide_numbers(input_dict: str) -> float or str:\n",
        "    \"\"\"Divides the first number by the second. Handles division by zero. Numbers provided in a json like {\"num1\": float, \"num2\": float}.\"\"\"\n",
        "    js = json.loads(input_dict)\n",
        "    num1 = js['num1']\n",
        "    num2 = js['num2']\n",
        "    if num2 == 0:\n",
        "        return \"Error: Cannot divide by zero.\"\n",
        "    return num1 / num2"
      ],
      "metadata": {
        "id": "BurDts5HaZz7"
      },
      "id": "BurDts5HaZz7",
      "execution_count": 70,
      "outputs": []
    },
    {
      "cell_type": "code",
      "source": [
        "# Custom tool\n",
        "@tool\n",
        "def greet_tool(name: str) -> str:\n",
        "    \"\"\"Greets a person by their name.\"\"\"\n",
        "    return f\"Hello {name}!, Nice to meet you.\""
      ],
      "metadata": {
        "id": "tVxmF1fmeGkh"
      },
      "id": "tVxmF1fmeGkh",
      "execution_count": 47,
      "outputs": []
    },
    {
      "cell_type": "code",
      "source": [
        "# Collect all tools\n",
        "tools = [greet_tool, search_tool, add_numbers, substract_operation, multiply_operation, divide_numbers]\n",
        "\n",
        "prompt = hub.pull(\"hwchase17/react\")\n",
        "#prompt = PromptTemplate(input_variables=[\"input\", \"agent_scratchpad\"], template=prompt_template)\n",
        "print(prompt)\n",
        "\n",
        "llm = ChatGoogleGenerativeAI(model=\"gemini-2.5-flash\", temperature=0.5)\n",
        "agent = create_react_agent(llm, tools, prompt=prompt)\n",
        "agent_executor = AgentExecutor(agent=agent, tools=tools, verbose=True, handle_parsing_errors=True)\n",
        "\n",
        "print(\"Agent is ready.\")"
      ],
      "metadata": {
        "colab": {
          "base_uri": "https://localhost:8080/"
        },
        "id": "IrTrcCDCedhX",
        "outputId": "6c6c490f-b7f7-4021-c54e-0dcabb2664e6"
      },
      "id": "IrTrcCDCedhX",
      "execution_count": 71,
      "outputs": [
        {
          "output_type": "stream",
          "name": "stdout",
          "text": [
            "input_variables=['agent_scratchpad', 'input', 'tool_names', 'tools'] input_types={} partial_variables={} metadata={'lc_hub_owner': 'hwchase17', 'lc_hub_repo': 'react', 'lc_hub_commit_hash': 'd15fe3c426f1c4b3f37c9198853e4a86e20c425ca7f4752ec0c9b0e97ca7ea4d'} template='Answer the following questions as best you can. You have access to the following tools:\\n\\n{tools}\\n\\nUse the following format:\\n\\nQuestion: the input question you must answer\\nThought: you should always think about what to do\\nAction: the action to take, should be one of [{tool_names}]\\nAction Input: the input to the action\\nObservation: the result of the action\\n... (this Thought/Action/Action Input/Observation can repeat N times)\\nThought: I now know the final answer\\nFinal Answer: the final answer to the original input question\\n\\nBegin!\\n\\nQuestion: {input}\\nThought:{agent_scratchpad}'\n",
            "Agent is ready.\n"
          ]
        }
      ]
    },
    {
      "cell_type": "code",
      "source": [
        "print(\"Let's search using egent\")\n",
        "search_response = agent_executor.invoke({\"input\": \"search for current PM of UK\"})\n",
        "print(f\"search response = {search_response['output']}\")"
      ],
      "metadata": {
        "colab": {
          "base_uri": "https://localhost:8080/"
        },
        "id": "HcnljWZPfxu6",
        "outputId": "ab448173-b3ff-4bea-f18b-cc6c0c147c83"
      },
      "id": "HcnljWZPfxu6",
      "execution_count": 21,
      "outputs": [
        {
          "output_type": "stream",
          "name": "stdout",
          "text": [
            "Let's search using egent\n",
            "\n",
            "\n",
            "\u001b[1m> Entering new AgentExecutor chain...\u001b[0m\n",
            "\u001b[32;1m\u001b[1;3mAction: search_tool\n",
            "Action Input: current PM of UK\u001b[0m\u001b[33;1m\u001b[1;3mAug 7, 2023 · current，作名词译为（水，气，电）流；趋势；作形容词译为现在的；流通的。 读音：英[ˈkʌrənt]，美[ˈkɜːrənt]。 释义： adj.现在的；流通的，通用的；最近的；草写的。 n.（ … Jul 9, 2024 · current强调现在进行时或即时状态，present描述现有的状态或事物，而recent则侧重于近期发生的事件或时间段内的事情。 根据语境的不同，这些词在表达时间概念时具有不同 … current，present，recent在表示形容词性的时候发生的时间不同、词性不同、在句型中用法不同。 一、表示形容词性的时候，表示发生的时间不同 1、current指目前存在和发生的。 2、recent … Sep 2, 2024 · 华硕电脑开机出现“USB device over current status detected”提示时，可以按照以下步骤进行排查和解决： 立即断开所有USB设备。这个提示通常意味着USB接口或连接的USB … 步进电机驱动器设置成“half current”和“full current”有什么区别？ half current是在没有脉冲的情况下自动减半电流，有的是降到70%，这样就可以减少电机的发热，full current的话就是关闭这个 …\u001b[0m\u001b[32;1m\u001b[1;3mThe search results provided definitions and usage of the word \"current\" and unrelated technical issues. It did not provide the current PM of the UK. I need to refine my search query.\n",
            "Action: search_tool\n",
            "Action Input: Who is the current Prime Minister of the UK?\u001b[0m\u001b[33;1m\u001b[1;3mThe prime minister of the United Kingdom is the principal minister of the crown of His Majesty's Government, and the head of the British Cabinet.Margaret Thatcher was the first female prime minister . Keir Starmer is the current prime minister . But because that party is currently in government, then that new party leader automatically steps into the role of Prime Minister . Suella Braverman, the former Interior Minister -- who lasted a day less in office than Liz Truss did -- is another probable contender for the top job. ... Braverman, the former Interior minister — who lasted a day less in office than Liz Truss did — is another probable contender for the top ... From the days of Sir Robert Walpole, considered the first de facto Prime Minister , to the current officeholder, the history of UK Prime Ministers is ...\u001b[0m\u001b[32;1m\u001b[1;3mAction: search_tool\n",
            "Action Input: Who is the Prime Minister of the United Kingdom right now?\u001b[0m\u001b[33;1m\u001b[1;3m亚马逊prime就是亚马逊推出的付费会员制，是一项会员购物增值计划，类似于淘宝的“88VIP”。 开通亚马逊prime会员，可以享受以下优惠： 1、 免费配送服务 可在会员有效期内享受无限次亚马逊海外购 … 他们做形容词的意思都很相近，侧重点有什么不同吗?综合韦大黑和AI的解释来看我的为principal重要在事物的\"性\"上,而prime重要在事物的\"质\"上。这个总结个人感觉不太成熟且太过抽象，然确是第一感 … 在英文环境中， 角分符号 称作“prime”源于误读。因为在20世纪初期，x′ 读作“ x prime ”并不是因为在 x 后跟着一个“prime 符号”，而因为它是x′、x″ (\"x second\") 与x‴ (\"x third\") 中的第一个，这里prime … Amazon prime是什么？ 亚马逊baiPrime（英语：Amazon Prime）是亚马逊公司提供du的会员付费订阅服务，享受无限zhi次亚马逊海dao外购商品及国内订单免费配送服务，另外还有音乐、视频、图书等 … Dec 5, 2019 · 请问CINITY厅，PRIME厅与IMAX和杜比有什么区别？ 哪位大佬可以从比较专业的角度帮分析一下？ 从亮度，音效，片源，屏幕等方面，十分感谢！ 显示全部 关注者 39\u001b[0m\u001b[32;1m\u001b[1;3mAction: search_tool\n",
            "Action Input: Who is the current Prime Minister of the UK in 2024?\u001b[0m\u001b[33;1m\u001b[1;3mThe prime minister of the United Kingdom is the principal minister of the crown of His Majesty's Government, and the head of the British Cabinet. There is no specific date for when the office of prime minister first appeared... Prime Minister of the United Kingdom . Герб правительства Его Величества Герб правительства Его Величества. Должность занимает Кир Стармер с 5 июля 2024 года. The Prime Minister is the leader of His Majesty’s Government and is ultimately responsible for the policy and decisions of the government. Current role holder. The Rt Hon Sir Keir Starmer KCB KC MP. Sir Keir Starmer became Prime Minister on 5 July 2024 . Former Prime Minister Rishi Sunak conceded early Friday morning, saying voters had delivered a \"sobering verdict\" on his Conservative Party, and he quickly headed to Buckingham Palace and submitted his resignation to King Charles III. How does the UK general election work? The House of Commons is the main lawmaking body for the United Kingdom , the other being the unelected House of Lords. It consists of 650 members, each of whom is elected by a geographical constituency of roughly equal population.\u001b[0m\u001b[32;1m\u001b[1;3mI now know the final answer\n",
            "Final Answer: Sir Keir Starmer is the current Prime Minister of the UK, having taken office on 5 July 2024.\u001b[0m\n",
            "\n",
            "\u001b[1m> Finished chain.\u001b[0m\n",
            "search response = Sir Keir Starmer is the current Prime Minister of the UK, having taken office on 5 July 2024.\n"
          ]
        }
      ]
    },
    {
      "cell_type": "code",
      "source": [
        "print(\"Let's do some arithmatic operations\")\n",
        "addition_response = agent_executor.invoke({\"input\": \"What is 12345 plus 678 ?\", \"tools\": tools})\n",
        "print(f\"Addition response = {addition_response['output']}\")"
      ],
      "metadata": {
        "colab": {
          "base_uri": "https://localhost:8080/"
        },
        "id": "zirh6rMwfmiz",
        "outputId": "23d80092-99c7-4a21-d618-e5fd8a704184"
      },
      "id": "zirh6rMwfmiz",
      "execution_count": 73,
      "outputs": [
        {
          "output_type": "stream",
          "name": "stdout",
          "text": [
            "Let's do some arithmatic operations\n",
            "\n",
            "\n",
            "\u001b[1m> Entering new AgentExecutor chain...\u001b[0m\n",
            "\u001b[32;1m\u001b[1;3mAction: add_numbers\n",
            "Action Input: {\"num1\": 12345, \"num2\": 678}\u001b[0m\u001b[38;5;200m\u001b[1;3m13023\u001b[0m\u001b[32;1m\u001b[1;3mI now know the final answer\n",
            "Final Answer: 13023\u001b[0m\n",
            "\n",
            "\u001b[1m> Finished chain.\u001b[0m\n",
            "Addition response = 13023\n"
          ]
        }
      ]
    },
    {
      "cell_type": "code",
      "source": [
        "print(\"Let's do some arithmatic operations\")\n",
        "addition_response = agent_executor.invoke({\"input\": \"What is the capital of Canada? How many letters are in its name? multiply by 5 to that number.\"})\n",
        "print(f\"response = {addition_response['output']}\")"
      ],
      "metadata": {
        "id": "tYi1P8FqrBrn",
        "outputId": "83044623-68e5-471b-ec9f-0f03561ebaf4",
        "colab": {
          "base_uri": "https://localhost:8080/"
        }
      },
      "id": "tYi1P8FqrBrn",
      "execution_count": 74,
      "outputs": [
        {
          "output_type": "stream",
          "name": "stdout",
          "text": [
            "Let's do some arithmatic operations\n",
            "\n",
            "\n",
            "\u001b[1m> Entering new AgentExecutor chain...\u001b[0m\n",
            "\u001b[32;1m\u001b[1;3mAction: search_tool\n",
            "Action Input: capital of Canada\u001b[0m\u001b[33;1m\u001b[1;3m4 days ago - Ottawa is the capital city of Canada. It is located in the southern portion of the province of Ontario, at the confluence of the Ottawa River and the Rideau River. Ottawa borders Gatineau, Quebec, and forms the core of the Ottawa –Gatineau census metropolitan area (CMA) and the National Capital ... 2 days ago - With a population of over 41 million, it has widely varying population densities, with the majority residing in its urban areas and large areas being sparsely populated. Canada's capital is Ottawa and its three largest metropolitan areas are Toronto, Montreal, and Vancouver. 2 weeks ago - It moved to Quebec City from 1851 to 1855, then returned to Toronto from 1855 to 1859 before returning to Quebec City from 1859 to 1865. In 1857, Queen Victoria was asked to select a permanent seat of government. Her decision to make Ottawa as the permanent capital of the Province of Canada was announced in February 1858. May 8, 2025 - The capital of Canada is Ottawa , which was incorporated in 1855 and gets its name from the Algonquin word for \"trade.\" Ottawa 's archaeological sites reveal an indigenous population that lived there for centuries before Europeans arrived. April 24, 2025 - What is the capital city of Canada? That’s Ottawa !\u001b[0m\u001b[32;1m\u001b[1;3mI have identified that the capital of Canada is Ottawa. Now I need to count the letters in \"Ottawa\" and then multiply that count by 5. \"Ottawa\" has 6 letters.\n",
            "Action: multiply_operation\n",
            "Action Input: {\"a\": 6, \"b\": 5}\u001b[0m\u001b[33;1m\u001b[1;3m30\u001b[0m\u001b[32;1m\u001b[1;3mI have successfully found the capital of Canada, counted the letters in its name, and multiplied that number by 5.\n",
            "Final Answer: The capital of Canada is Ottawa. It has 6 letters. Multiplying 6 by 5 gives 30.\u001b[0m\n",
            "\n",
            "\u001b[1m> Finished chain.\u001b[0m\n",
            "response = The capital of Canada is Ottawa. It has 6 letters. Multiplying 6 by 5 gives 30.\n"
          ]
        }
      ]
    }
  ],
  "metadata": {
    "kernelspec": {
      "display_name": "Python 3",
      "language": "python",
      "name": "python3"
    },
    "language_info": {
      "name": "python",
      "version": "3.13.6"
    },
    "colab": {
      "provenance": []
    }
  },
  "nbformat": 4,
  "nbformat_minor": 5
}