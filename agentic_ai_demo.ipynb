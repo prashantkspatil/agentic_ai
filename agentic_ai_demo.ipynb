{
 "cells": [
  {
   "cell_type": "code",
   "execution_count": null,
   "id": "1485d314",
   "metadata": {},
   "outputs": [],
   "source": [
    "!pip install -q -U google-generativeai langchain-google-genai langchain langchain-community duckduckgo-search"
   ]
  }
 ],
 "metadata": {
  "kernelspec": {
   "display_name": "Python 3",
   "language": "python",
   "name": "python3"
  },
  "language_info": {
   "name": "python",
   "version": "3.13.6"
  }
 },
 "nbformat": 4,
 "nbformat_minor": 5
}
