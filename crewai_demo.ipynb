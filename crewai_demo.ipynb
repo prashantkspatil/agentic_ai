{
 "cells": [
  {
   "cell_type": "markdown",
   "id": "d8348e10",
   "metadata": {},
   "source": [
    "## Demo of crewai"
   ]
  }
 ],
 "metadata": {
  "language_info": {
   "name": "python"
  }
 },
 "nbformat": 4,
 "nbformat_minor": 5
}
